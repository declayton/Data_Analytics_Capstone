{
 "cells": [
  {
   "cell_type": "code",
   "execution_count": 1,
   "id": "64a40d87-71b8-4367-9afa-c91df68c13b9",
   "metadata": {},
   "outputs": [],
   "source": [
    "#Import important libraries\n",
    "import numpy as np\n",
    "import pandas as pd"
   ]
  },
  {
   "cell_type": "code",
   "execution_count": 2,
   "id": "e5561dce-1c3e-4039-a2d5-7a7c85f94f0e",
   "metadata": {},
   "outputs": [
    {
     "data": {
      "text/html": [
       "<div>\n",
       "<style scoped>\n",
       "    .dataframe tbody tr th:only-of-type {\n",
       "        vertical-align: middle;\n",
       "    }\n",
       "\n",
       "    .dataframe tbody tr th {\n",
       "        vertical-align: top;\n",
       "    }\n",
       "\n",
       "    .dataframe thead th {\n",
       "        text-align: right;\n",
       "    }\n",
       "</style>\n",
       "<table border=\"1\" class=\"dataframe\">\n",
       "  <thead>\n",
       "    <tr style=\"text-align: right;\">\n",
       "      <th></th>\n",
       "      <th>TeamID</th>\n",
       "      <th>TeamName</th>\n",
       "      <th>FirstD1Season</th>\n",
       "      <th>LastD1Season</th>\n",
       "    </tr>\n",
       "  </thead>\n",
       "  <tbody>\n",
       "    <tr>\n",
       "      <th>0</th>\n",
       "      <td>1101</td>\n",
       "      <td>Abilene Chr</td>\n",
       "      <td>2014</td>\n",
       "      <td>2020</td>\n",
       "    </tr>\n",
       "    <tr>\n",
       "      <th>1</th>\n",
       "      <td>1102</td>\n",
       "      <td>Air Force</td>\n",
       "      <td>1985</td>\n",
       "      <td>2020</td>\n",
       "    </tr>\n",
       "    <tr>\n",
       "      <th>2</th>\n",
       "      <td>1103</td>\n",
       "      <td>Akron</td>\n",
       "      <td>1985</td>\n",
       "      <td>2020</td>\n",
       "    </tr>\n",
       "    <tr>\n",
       "      <th>3</th>\n",
       "      <td>1104</td>\n",
       "      <td>Alabama</td>\n",
       "      <td>1985</td>\n",
       "      <td>2020</td>\n",
       "    </tr>\n",
       "    <tr>\n",
       "      <th>4</th>\n",
       "      <td>1105</td>\n",
       "      <td>Alabama A&amp;M</td>\n",
       "      <td>2000</td>\n",
       "      <td>2020</td>\n",
       "    </tr>\n",
       "  </tbody>\n",
       "</table>\n",
       "</div>"
      ],
      "text/plain": [
       "   TeamID     TeamName  FirstD1Season  LastD1Season\n",
       "0    1101  Abilene Chr           2014          2020\n",
       "1    1102    Air Force           1985          2020\n",
       "2    1103        Akron           1985          2020\n",
       "3    1104      Alabama           1985          2020\n",
       "4    1105  Alabama A&M           2000          2020"
      ]
     },
     "execution_count": 2,
     "metadata": {},
     "output_type": "execute_result"
    }
   ],
   "source": [
    "# STAGE_1_DIR = '/kaggle/input/mens-march-mania-2022/MDataFiles_Stage1/'\n",
    "# SEASON_DIR = '/kaggle/input/mncaa-additional-data-2022/'\n",
    "teams = pd.read_csv('MTeams.csv')\n",
    "teams.head()\n",
    "\n",
    "# advance_stats = pd.read_csv('advance_stats.csv', encoding='cp1252')\n",
    "# advance_stats.info()"
   ]
  },
  {
   "cell_type": "code",
   "execution_count": 3,
   "id": "4ab0e0f4-6354-40b4-8741-c527f5ca9186",
   "metadata": {},
   "outputs": [],
   "source": [
    "def compute_average_rank(teamID, season, rankings_df=None):\n",
    "    if rankings_df is None:\n",
    "        rankings_df = pd.read_csv('MMasseyOrdinals.csv')\n",
    "    ranks = rankings_df[(rankings_df.TeamID == teamID) & (rankings_df.Season == season)]\n",
    "    return ranks.OrdinalRank.mean()\n",
    "\n",
    "# Example: \n",
    "# print(\"Alabama's average rank for 2020 is\", compute_average_rank(1104, 2020))"
   ]
  },
  {
   "cell_type": "code",
   "execution_count": 4,
   "id": "9f682f80-1e75-41bd-a3bc-e8ec24cd2b90",
   "metadata": {},
   "outputs": [],
   "source": [
    "def clean_season_data(dataframe, season, teamIDs=None, rankings=None):\n",
    "    ''' Cleans the data by removing rows, filling in NA values, etc. '''\n",
    "    print(f'Processing data for {season} season')\n",
    "\n",
    "    # convert team names to team id\n",
    "    if teamIDs is None:\n",
    "        teamIDs = pd.read_csv('MTeamSpellings.csv', encoding='cp1252')\n",
    "    dfIDs = []\n",
    "    ranks = []\n",
    "\n",
    "    for i, sch in enumerate(dataframe.School):\n",
    "        team = teamIDs[teamIDs.TeamNameSpelling.str.lower() == sch]\n",
    "        if len(team) == 0:\n",
    "            # some entries were not in the data (see table below)\n",
    "            if sch == 'purdue-fort wayne':\n",
    "                schid = 1236\n",
    "            elif sch == 'cal state long beach':\n",
    "                schid = np.nan\n",
    "            elif sch == 'kansas city':\n",
    "                schid = 1282\n",
    "            elif sch == 'st. thomas (mn)':\n",
    "                schid = 1472\n",
    "            else:\n",
    "                schid = int(input(sch))\n",
    "        else:\n",
    "            schid = int(team.TeamID.iloc[0])\n",
    "        dfIDs.append(schid)\n",
    "        ranks.append(compute_average_rank(schid, int(season),\n",
    "                                          rankings_df=rankings))\n",
    "    dataframe['ID'] = dfIDs\n",
    "    \n",
    "    # add season column\n",
    "    season_data = [int(season)] * len(dataframe)\n",
    "    dataframe['Season'] = season_data\n",
    "    \n",
    "    # add rank column\n",
    "    dataframe['Rank'] = ranks\n",
    "    \n",
    "    return dataframe"
   ]
  },
  {
   "cell_type": "code",
   "execution_count": 5,
   "id": "793d7c8e-fa39-4c79-ad5c-5f2fc4c5a750",
   "metadata": {},
   "outputs": [],
   "source": [
    "def process_season_data(data):\n",
    "    ''' Reads in the data, cleans, and returns a dataframe '''\n",
    "    teamIDs = pd.read_csv('MTeamSpellings.csv', encoding='cp1252')\n",
    "    rankings_df = pd.read_csv('MMasseyOrdinals.csv')\n",
    "    dataframes = []\n",
    "    for d in data:\n",
    "        df = pd.read_csv(d, header=1)\n",
    "        df = clean_season_data(df, '20' + d.rstrip('.csv')[-2:],\n",
    "                               teamIDs=teamIDs, rankings=rankings_df)\n",
    "        dataframes.append(df)\n",
    "    return pd.concat(dataframes)"
   ]
  },
  {
   "cell_type": "code",
   "execution_count": 6,
   "id": "4d92f974-604e-466e-8edf-e0c61ed44208",
   "metadata": {},
   "outputs": [
    {
     "name": "stdout",
     "output_type": "stream",
     "text": [
      "Processing data for 2014 season\n"
     ]
    },
    {
     "name": "stdin",
     "output_type": "stream",
     "text": [
      "Abilene Christian 2014\n"
     ]
    },
    {
     "ename": "KeyboardInterrupt",
     "evalue": "Interrupted by user",
     "output_type": "error",
     "traceback": [
      "\u001b[1;31m---------------------------------------------------------------------------\u001b[0m",
      "\u001b[1;31mKeyboardInterrupt\u001b[0m                         Traceback (most recent call last)",
      "Cell \u001b[1;32mIn[6], line 3\u001b[0m\n\u001b[0;32m      1\u001b[0m season_stats \u001b[38;5;241m=\u001b[39m pd\u001b[38;5;241m.\u001b[39mread_csv(\u001b[38;5;124m'\u001b[39m\u001b[38;5;124mbasic_stats.csv\u001b[39m\u001b[38;5;124m'\u001b[39m, encoding\u001b[38;5;241m=\u001b[39m\u001b[38;5;124m'\u001b[39m\u001b[38;5;124mcp1252\u001b[39m\u001b[38;5;124m'\u001b[39m)\n\u001b[1;32m----> 3\u001b[0m team_season_stats \u001b[38;5;241m=\u001b[39m \u001b[43mclean_season_data\u001b[49m\u001b[43m(\u001b[49m\u001b[43mseason_stats\u001b[49m\u001b[43m,\u001b[49m\u001b[43m \u001b[49m\u001b[38;5;241;43m2014\u001b[39;49m\u001b[43m)\u001b[49m\n\u001b[0;32m      4\u001b[0m \u001b[38;5;66;03m# team_season_stats.head()\u001b[39;00m\n",
      "Cell \u001b[1;32mIn[4], line 24\u001b[0m, in \u001b[0;36mclean_season_data\u001b[1;34m(dataframe, season, teamIDs, rankings)\u001b[0m\n\u001b[0;32m     22\u001b[0m         schid \u001b[38;5;241m=\u001b[39m \u001b[38;5;241m1472\u001b[39m\n\u001b[0;32m     23\u001b[0m     \u001b[38;5;28;01melse\u001b[39;00m:\n\u001b[1;32m---> 24\u001b[0m         schid \u001b[38;5;241m=\u001b[39m \u001b[38;5;28mint\u001b[39m(\u001b[38;5;28;43minput\u001b[39;49m\u001b[43m(\u001b[49m\u001b[43msch\u001b[49m\u001b[43m)\u001b[49m)\n\u001b[0;32m     25\u001b[0m \u001b[38;5;28;01melse\u001b[39;00m:\n\u001b[0;32m     26\u001b[0m     schid \u001b[38;5;241m=\u001b[39m \u001b[38;5;28mint\u001b[39m(team\u001b[38;5;241m.\u001b[39mTeamID\u001b[38;5;241m.\u001b[39miloc[\u001b[38;5;241m0\u001b[39m])\n",
      "File \u001b[1;32m~\\OneDrive\\Documents\\44-688\\capstone\\Lib\\site-packages\\ipykernel\\kernelbase.py:1202\u001b[0m, in \u001b[0;36mKernel.raw_input\u001b[1;34m(self, prompt)\u001b[0m\n\u001b[0;32m   1200\u001b[0m     msg \u001b[38;5;241m=\u001b[39m \u001b[38;5;124m\"\u001b[39m\u001b[38;5;124mraw_input was called, but this frontend does not support input requests.\u001b[39m\u001b[38;5;124m\"\u001b[39m\n\u001b[0;32m   1201\u001b[0m     \u001b[38;5;28;01mraise\u001b[39;00m StdinNotImplementedError(msg)\n\u001b[1;32m-> 1202\u001b[0m \u001b[38;5;28;01mreturn\u001b[39;00m \u001b[38;5;28;43mself\u001b[39;49m\u001b[38;5;241;43m.\u001b[39;49m\u001b[43m_input_request\u001b[49m\u001b[43m(\u001b[49m\n\u001b[0;32m   1203\u001b[0m \u001b[43m    \u001b[49m\u001b[38;5;28;43mstr\u001b[39;49m\u001b[43m(\u001b[49m\u001b[43mprompt\u001b[49m\u001b[43m)\u001b[49m\u001b[43m,\u001b[49m\n\u001b[0;32m   1204\u001b[0m \u001b[43m    \u001b[49m\u001b[38;5;28;43mself\u001b[39;49m\u001b[38;5;241;43m.\u001b[39;49m\u001b[43m_parent_ident\u001b[49m\u001b[43m[\u001b[49m\u001b[38;5;124;43m\"\u001b[39;49m\u001b[38;5;124;43mshell\u001b[39;49m\u001b[38;5;124;43m\"\u001b[39;49m\u001b[43m]\u001b[49m\u001b[43m,\u001b[49m\n\u001b[0;32m   1205\u001b[0m \u001b[43m    \u001b[49m\u001b[38;5;28;43mself\u001b[39;49m\u001b[38;5;241;43m.\u001b[39;49m\u001b[43mget_parent\u001b[49m\u001b[43m(\u001b[49m\u001b[38;5;124;43m\"\u001b[39;49m\u001b[38;5;124;43mshell\u001b[39;49m\u001b[38;5;124;43m\"\u001b[39;49m\u001b[43m)\u001b[49m\u001b[43m,\u001b[49m\n\u001b[0;32m   1206\u001b[0m \u001b[43m    \u001b[49m\u001b[43mpassword\u001b[49m\u001b[38;5;241;43m=\u001b[39;49m\u001b[38;5;28;43;01mFalse\u001b[39;49;00m\u001b[43m,\u001b[49m\n\u001b[0;32m   1207\u001b[0m \u001b[43m\u001b[49m\u001b[43m)\u001b[49m\n",
      "File \u001b[1;32m~\\OneDrive\\Documents\\44-688\\capstone\\Lib\\site-packages\\ipykernel\\kernelbase.py:1245\u001b[0m, in \u001b[0;36mKernel._input_request\u001b[1;34m(self, prompt, ident, parent, password)\u001b[0m\n\u001b[0;32m   1242\u001b[0m \u001b[38;5;28;01mexcept\u001b[39;00m \u001b[38;5;167;01mKeyboardInterrupt\u001b[39;00m:\n\u001b[0;32m   1243\u001b[0m     \u001b[38;5;66;03m# re-raise KeyboardInterrupt, to truncate traceback\u001b[39;00m\n\u001b[0;32m   1244\u001b[0m     msg \u001b[38;5;241m=\u001b[39m \u001b[38;5;124m\"\u001b[39m\u001b[38;5;124mInterrupted by user\u001b[39m\u001b[38;5;124m\"\u001b[39m\n\u001b[1;32m-> 1245\u001b[0m     \u001b[38;5;28;01mraise\u001b[39;00m \u001b[38;5;167;01mKeyboardInterrupt\u001b[39;00m(msg) \u001b[38;5;28;01mfrom\u001b[39;00m \u001b[38;5;28;01mNone\u001b[39;00m\n\u001b[0;32m   1246\u001b[0m \u001b[38;5;28;01mexcept\u001b[39;00m \u001b[38;5;167;01mException\u001b[39;00m:\n\u001b[0;32m   1247\u001b[0m     \u001b[38;5;28mself\u001b[39m\u001b[38;5;241m.\u001b[39mlog\u001b[38;5;241m.\u001b[39mwarning(\u001b[38;5;124m\"\u001b[39m\u001b[38;5;124mInvalid Message:\u001b[39m\u001b[38;5;124m\"\u001b[39m, exc_info\u001b[38;5;241m=\u001b[39m\u001b[38;5;28;01mTrue\u001b[39;00m)\n",
      "\u001b[1;31mKeyboardInterrupt\u001b[0m: Interrupted by user"
     ]
    }
   ],
   "source": [
    "season_stats = pd.read_csv('basic_stats.csv', encoding='cp1252')\n",
    "\n",
    "team_season_stats = clean_season_data(season_stats, 2014)\n",
    "# team_season_stats.head() "
   ]
  },
  {
   "cell_type": "code",
   "execution_count": 7,
   "id": "8d51f134-e7d6-4eef-9d63-4971e2d1e6cb",
   "metadata": {},
   "outputs": [
    {
     "ename": "NameError",
     "evalue": "name 'team_season_stats' is not defined",
     "output_type": "error",
     "traceback": [
      "\u001b[1;31m---------------------------------------------------------------------------\u001b[0m",
      "\u001b[1;31mNameError\u001b[0m                                 Traceback (most recent call last)",
      "Cell \u001b[1;32mIn[7], line 1\u001b[0m\n\u001b[1;32m----> 1\u001b[0m \u001b[43mteam_season_stats\u001b[49m\u001b[38;5;241m.\u001b[39mdescribe()\n",
      "\u001b[1;31mNameError\u001b[0m: name 'team_season_stats' is not defined"
     ]
    }
   ],
   "source": [
    "team_season_stats.describe()"
   ]
  },
  {
   "cell_type": "code",
   "execution_count": null,
   "id": "162a4ec1-1b04-4618-b201-ea2b115064b3",
   "metadata": {},
   "outputs": [],
   "source": []
  }
 ],
 "metadata": {
  "kernelspec": {
   "display_name": "Python 3 (ipykernel)",
   "language": "python",
   "name": "python3"
  },
  "language_info": {
   "codemirror_mode": {
    "name": "ipython",
    "version": 3
   },
   "file_extension": ".py",
   "mimetype": "text/x-python",
   "name": "python",
   "nbconvert_exporter": "python",
   "pygments_lexer": "ipython3",
   "version": "3.11.4"
  }
 },
 "nbformat": 4,
 "nbformat_minor": 5
}
